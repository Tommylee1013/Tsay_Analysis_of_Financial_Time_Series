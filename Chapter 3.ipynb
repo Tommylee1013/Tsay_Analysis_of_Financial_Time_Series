{
 "cells": [
  {
   "cell_type": "code",
   "execution_count": 1,
   "metadata": {
    "collapsed": true,
    "ExecuteTime": {
     "end_time": "2023-05-10T16:32:27.703979Z",
     "start_time": "2023-05-10T16:32:27.615634Z"
    }
   },
   "outputs": [],
   "source": [
    "import pandas_datareader as wb, pandas as pd, datetime, matplotlib.pyplot as plt, numpy as np\n",
    "import warnings\n",
    "warnings.filterwarnings(\"ignore\")\n",
    "\n",
    "%matplotlib inline"
   ]
  },
  {
   "cell_type": "code",
   "execution_count": 2,
   "outputs": [],
   "source": [
    "start = datetime.datetime(2010, 1, 1)\n",
    "end = datetime.datetime(2023, 4, 30)\n",
    "df_null = wb.DataReader(\"KOSPI\", \"naver\", start, end)\n",
    "df = df_null['Close'].dropna().astype('float')"
   ],
   "metadata": {
    "collapsed": false,
    "ExecuteTime": {
     "end_time": "2023-05-10T16:32:33.515413Z",
     "start_time": "2023-05-10T16:32:32.808402Z"
    }
   }
  },
  {
   "cell_type": "markdown",
   "source": [
    "### Conditional Heteroscedastic Models\n",
    "\n",
    "The univariate volatility models discussed in this chapter include the autoregres- sive conditional heteroscedastic (ARCH) model of Engle (1982), the generalized ARCH (GARCH) model of Bollerslev (1986), the exponential GARCH (EGARCH) model of Nelson (1991), the threshold GARCH (TGARCH) model of Glosten, Jagannathan, and Runkle (1993) and Zakoian (1994), the conditional heteroscedas- tic autoregressive moving-average (CHARMA) model of Tsay (1987), the random coefficient autoregressive (RCA) model of Nicholls and Quinn (1982), and the stochastic volatility (SV) models of Melino and Turnbull (1990), Taylor (1994), Harvey, Ruiz, and Shephard (1994), and Jacquier, Polson, and Rossi (1994). We also discuss advantages and weaknesses of each volatility model and show some applications of the models. Multivariate volatility models, including those with time-varying correlations, are discussed in Chapter 10.\n",
    "\n",
    "#### 1. Characteristics of Vaolatility\n",
    "\n",
    "The resulting value of σt is called the implied volatility of the underlying stock. However, this implied volatility is derived under the assumption that the price of the underlying asset follows a geometric Brownian motion. It might be different from the actual volatility. Experience shows that implied volatility of an asset return tends to be larger than that obtained by using a GARCH type of volatility model. This might be due to the risk premium for volatility or to the way daily returns are calculated. The VIX of CBOE is an implied volatility.\n",
    "\n",
    "**Some characteristics of volatilities**\n",
    "- there exist volatility clusters\n",
    "- volatility evolves over time in a continuous manner\n",
    "- volatility does not diverge to infinity\n",
    "- volatility seems to react differently to a big price increase or a big price drop, referred to as the leverage effect"
   ],
   "metadata": {
    "collapsed": false
   }
  },
  {
   "cell_type": "markdown",
   "source": [
    "#### 2. Structure of a Model\n",
    "\n",
    "To put the volatility models in proper perspective, it is informative to consider the conditional mean and variance of $r_t$ given $F_{t−1}$\n",
    "\n",
    "$$\\mu_t = E(r_t|F_{t-1}), ~~~~~ \\sigma_t^2 = \\mathrm{Var}(r_t|F_{t-1}) = E[(r_t - \\mu_t)^2|F_{t-1}]$$\n",
    "\n",
    "where $F_{t−1}$ denotes the information set available at time $t − 1$."
   ],
   "metadata": {
    "collapsed": false
   }
  },
  {
   "cell_type": "code",
   "execution_count": null,
   "outputs": [],
   "source": [],
   "metadata": {
    "collapsed": false
   }
  }
 ],
 "metadata": {
  "kernelspec": {
   "display_name": "Python 3",
   "language": "python",
   "name": "python3"
  },
  "language_info": {
   "codemirror_mode": {
    "name": "ipython",
    "version": 2
   },
   "file_extension": ".py",
   "mimetype": "text/x-python",
   "name": "python",
   "nbconvert_exporter": "python",
   "pygments_lexer": "ipython2",
   "version": "2.7.6"
  }
 },
 "nbformat": 4,
 "nbformat_minor": 0
}
