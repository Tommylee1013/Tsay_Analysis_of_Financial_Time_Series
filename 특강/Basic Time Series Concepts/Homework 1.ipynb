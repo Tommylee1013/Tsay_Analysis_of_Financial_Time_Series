{
 "cells": [
  {
   "cell_type": "markdown",
   "source": [
    "### Homework 1\n",
    "\n",
    "이번 과제에서는 pandas datareader를 이용하여 주가 데이터를 이용해 실습을 한다"
   ],
   "metadata": {
    "collapsed": false
   }
  },
  {
   "cell_type": "markdown",
   "source": [
    "#### 1. 데이터 불러오기\n",
    "\n",
    "아래 라이브러리를 활용하여 2020년 1월 1일부터 2023년 7월 31일까지의 KOSPI 데이터를 import 하여라"
   ],
   "metadata": {
    "collapsed": false
   }
  },
  {
   "cell_type": "code",
   "execution_count": 5,
   "outputs": [],
   "source": [
    "import pandas_datareader as pdr\n",
    "import datetime"
   ],
   "metadata": {
    "collapsed": false,
    "ExecuteTime": {
     "end_time": "2023-07-25T10:27:19.672048Z",
     "start_time": "2023-07-25T10:27:19.664957Z"
    }
   }
  },
  {
   "cell_type": "markdown",
   "source": [
    "#### 2. 차분시계열 생성\n",
    "\n",
    "주어진 데이터를 활용하여 수익률을 계산하여라. 데이터 형태는 pandas DataFrame이며, 계산에는 numpy의 log함수를 사용하도록 한다. 즉, 로그 수익률을 계산한다"
   ],
   "metadata": {
    "collapsed": false
   }
  },
  {
   "cell_type": "code",
   "execution_count": null,
   "outputs": [],
   "source": [
    "import numpy as np\n",
    "import pandas as pd"
   ],
   "metadata": {
    "collapsed": false
   }
  },
  {
   "cell_type": "markdown",
   "source": [
    "계산한 차분 시계열을 아래 library를 이용해 plotting하여라. 어떤 특징을 보이는가?"
   ],
   "metadata": {
    "collapsed": false
   }
  },
  {
   "cell_type": "code",
   "execution_count": null,
   "outputs": [],
   "source": [
    "import matplotlib.pyplot as plt"
   ],
   "metadata": {
    "collapsed": false
   }
  },
  {
   "cell_type": "markdown",
   "source": [
    "#### 3. Autocorrelation\n",
    "\n",
    "아래 library를 활용하여 주어진 원 시계열과 차분 시계열을 활용하여 10기간 ACF의 값을 구하고, 30기간동안의 ACF를 plotting하여라"
   ],
   "metadata": {
    "collapsed": false
   }
  },
  {
   "cell_type": "code",
   "execution_count": null,
   "outputs": [],
   "source": [
    "from statsmodels.tsa import stattools\n",
    "from statsmodels.graphics.tsaplots import plot_acf"
   ],
   "metadata": {
    "collapsed": false
   }
  },
  {
   "cell_type": "markdown",
   "source": [
    "#### 4. 자산간 상관관계\n",
    "\n",
    "pandas DataFrame의 method 중에서 `cov()`와 `corr()` method가 존재한다. 이는 **같은 데이터프레임 내의 columns간 공분산과 상관계수**를 계산해주는 method이다\n",
    "\n",
    "**4.1** KOSDAQ의 동기간 데이터를 pandas datareader를 통해 불러오자. 그리고 차분 시계열로 변환하여 차분된 KOSPI와의 공분산과 상관계수를 구하여라. 어떤 값이 나왔으며, 이는 무엇을 의미하는가?"
   ],
   "metadata": {
    "collapsed": false
   }
  },
  {
   "cell_type": "markdown",
   "source": [
    "**4.2** 이번에는 개별주식인 samsung electronics의 주가를 불러오자. 그리고 차분 시계열로 변환하여 차분된 KOSPI와의 공분산과 상관계수를 구하여라. 어떤 값이 나왔으며, 이는 무엇을 의미하는가?"
   ],
   "metadata": {
    "collapsed": false
   }
  },
  {
   "cell_type": "markdown",
   "source": [
    "**4.3** pandas DataFrame으로 저장된 차분된 시계열에 `cumsum()` method를 사용하면 누적 수익률을 볼 수 있다. KOSPI와 KOSDAQ, Samsung Electronics의 누적수익률을 구하고, 세 자산 모두 동일 그래프에 plotting해 보자"
   ],
   "metadata": {
    "collapsed": false
   }
  }
 ],
 "metadata": {
  "kernelspec": {
   "display_name": "Python 3",
   "language": "python",
   "name": "python3"
  },
  "language_info": {
   "codemirror_mode": {
    "name": "ipython",
    "version": 2
   },
   "file_extension": ".py",
   "mimetype": "text/x-python",
   "name": "python",
   "nbconvert_exporter": "python",
   "pygments_lexer": "ipython2",
   "version": "2.7.6"
  }
 },
 "nbformat": 4,
 "nbformat_minor": 0
}
